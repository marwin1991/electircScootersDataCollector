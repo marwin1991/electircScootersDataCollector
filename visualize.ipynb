{
 "cells": [
  {
   "cell_type": "code",
   "execution_count": 1,
   "metadata": {},
   "outputs": [
    {
     "name": "stdout",
     "output_type": "stream",
     "text": [
      "Req stat code: 200 1/36 long: 50.038923 ; lat: 19.915757 Got birds: 250\n",
      "Req stat code: 200 2/36 long: 50.038923 ; lat: 19.920757 Got birds: 250\n",
      "Req stat code: 200 3/36 long: 50.038923 ; lat: 19.925756999999997 Got birds: 250\n",
      "Req stat code: 200 4/36 long: 50.038923 ; lat: 19.930756999999996 Got birds: 250\n",
      "Req stat code: 200 5/36 long: 50.038923 ; lat: 19.935756999999995 Got birds: 250\n",
      "Req stat code: 200 6/36 long: 50.038923 ; lat: 19.940756999999994 Got birds: 250\n",
      "Req stat code: 200 7/36 long: 50.043923 ; lat: 19.915757 Got birds: 250\n",
      "Req stat code: 200 8/36 long: 50.043923 ; lat: 19.920757 Got birds: 250\n",
      "Req stat code: 200 9/36 long: 50.043923 ; lat: 19.925756999999997 Got birds: 250\n",
      "Req stat code: 200 10/36 long: 50.043923 ; lat: 19.930756999999996 Got birds: 250\n",
      "Req stat code: 200 11/36 long: 50.043923 ; lat: 19.935756999999995 Got birds: 250\n",
      "Req stat code: 200 12/36 long: 50.043923 ; lat: 19.940756999999994 Got birds: 250\n",
      "Req stat code: 200 13/36 long: 50.048923 ; lat: 19.915757 Got birds: 250\n",
      "Req stat code: 200 14/36 long: 50.048923 ; lat: 19.920757 Got birds: 250\n",
      "Req stat code: 200 15/36 long: 50.048923 ; lat: 19.925756999999997 Got birds: 250\n",
      "Req stat code: 200 16/36 long: 50.048923 ; lat: 19.930756999999996 Got birds: 250\n",
      "Req stat code: 200 17/36 long: 50.048923 ; lat: 19.935756999999995 Got birds: 250\n",
      "Req stat code: 200 18/36 long: 50.048923 ; lat: 19.940756999999994 Got birds: 250\n",
      "Req stat code: 200 19/36 long: 50.053923000000005 ; lat: 19.915757 Got birds: 250\n",
      "Req stat code: 200 20/36 long: 50.053923000000005 ; lat: 19.920757 Got birds: 250\n",
      "Req stat code: 200 21/36 long: 50.053923000000005 ; lat: 19.925756999999997 Got birds: 250\n",
      "Req stat code: 200 22/36 long: 50.053923000000005 ; lat: 19.930756999999996 Got birds: 250\n",
      "Req stat code: 200 23/36 long: 50.053923000000005 ; lat: 19.935756999999995 Got birds: 250\n",
      "Req stat code: 200 24/36 long: 50.053923000000005 ; lat: 19.940756999999994 Got birds: 250\n",
      "Req stat code: 200 25/36 long: 50.05892300000001 ; lat: 19.915757 Got birds: 250\n",
      "Req stat code: 200 26/36 long: 50.05892300000001 ; lat: 19.920757 Got birds: 250\n",
      "Req stat code: 200 27/36 long: 50.05892300000001 ; lat: 19.925756999999997 Got birds: 250\n",
      "Req stat code: 200 28/36 long: 50.05892300000001 ; lat: 19.930756999999996 Got birds: 250\n",
      "Req stat code: 200 29/36 long: 50.05892300000001 ; lat: 19.935756999999995 Got birds: 250\n",
      "Req stat code: 200 30/36 long: 50.05892300000001 ; lat: 19.940756999999994 Got birds: 250\n",
      "Req stat code: 200 31/36 long: 50.06392300000001 ; lat: 19.915757 Got birds: 250\n",
      "Req stat code: 200 32/36 long: 50.06392300000001 ; lat: 19.920757 Got birds: 250\n",
      "Req stat code: 200 33/36 long: 50.06392300000001 ; lat: 19.925756999999997 Got birds: 250\n",
      "Req stat code: 200 34/36 long: 50.06392300000001 ; lat: 19.930756999999996 Got birds: 250\n",
      "Req stat code: 200 35/36 long: 50.06392300000001 ; lat: 19.935756999999995 Got birds: 250\n",
      "Req stat code: 200 36/36 long: 50.06392300000001 ; lat: 19.940756999999994 Got birds: 250\n",
      "367\n"
     ]
    }
   ],
   "source": [
    "from main import *\n",
    "\n",
    "birds_table = get_crocow_scooters()\n",
    "print(len(birds_table))"
   ]
  },
  {
   "cell_type": "code",
   "execution_count": 2,
   "metadata": {},
   "outputs": [
    {
     "data": {
      "application/vnd.jupyter.widget-view+json": {
       "model_id": "ac3fa20dfad0400f9e7282e5c9b91cb1",
       "version_major": 2,
       "version_minor": 0
      },
      "text/plain": [
       "Figure(layout=FigureLayout(height='420px'))"
      ]
     },
     "metadata": {},
     "output_type": "display_data"
    }
   ],
   "source": [
    "import gmaps\n",
    "gmaps.configure(api_key=\"\") # Your Google API key\n",
    "\n",
    "\n",
    "birds_layer = []\n",
    "for bird in birds_table:\n",
    "    birds_layer.append([bird.location['latitude'], bird.location['longitude']])\n",
    "\n",
    "\n",
    "birds_layer = draw_locs(birds_layer)\n",
    "\n",
    "fig = gmaps.figure()\n",
    "fig.add_layer(birds_layer)\n",
    "\n",
    "fig\n"
   ]
  },
  {
   "cell_type": "code",
   "execution_count": 4,
   "metadata": {},
   "outputs": [
    {
     "name": "stdout",
     "output_type": "stream",
     "text": [
      "367\n"
     ]
    }
   ],
   "source": [
    "print(len(birds_table))\n"
   ]
  },
  {
   "cell_type": "code",
   "execution_count": null,
   "metadata": {},
   "outputs": [],
   "source": []
  }
 ],
 "metadata": {
  "kernelspec": {
   "display_name": "Python 3",
   "language": "python",
   "name": "python3"
  },
  "language_info": {
   "codemirror_mode": {
    "name": "ipython",
    "version": 3
   },
   "file_extension": ".py",
   "mimetype": "text/x-python",
   "name": "python",
   "nbconvert_exporter": "python",
   "pygments_lexer": "ipython3",
   "version": "3.7.2"
  }
 },
 "nbformat": 4,
 "nbformat_minor": 2
}
