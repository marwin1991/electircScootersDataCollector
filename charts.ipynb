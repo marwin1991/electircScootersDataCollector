{
 "cells": [
  {
   "cell_type": "code",
   "execution_count": 1,
   "metadata": {},
   "outputs": [],
   "source": [
    "from utils import *\n",
    "import pymongo"
   ]
  },
  {
   "cell_type": "code",
   "execution_count": 2,
   "metadata": {},
   "outputs": [],
   "source": [
    "myclient = pymongo.MongoClient(\"mongodb://localhost:27017/\")\n",
    "mydb = myclient[\"db\"]\n",
    "birds = mydb[\"electric_scooters\"]"
   ]
  },
  {
   "cell_type": "code",
   "execution_count": 3,
   "metadata": {},
   "outputs": [],
   "source": [
    "def get_birds_ids(birds):\n",
    "    return list(birds.distinct(\"id\"))"
   ]
  },
  {
   "cell_type": "code",
   "execution_count": 4,
   "metadata": {},
   "outputs": [
    {
     "name": "stdout",
     "output_type": "stream",
     "text": [
      "7642\n"
     ]
    }
   ],
   "source": [
    "birds_ids = get_birds_ids(birds)\n",
    "print(len(birds_ids))"
   ]
  },
  {
   "cell_type": "code",
   "execution_count": 94,
   "metadata": {},
   "outputs": [],
   "source": [
    "test_id = birds_ids[300]\n",
    "\n",
    "def get_total_distance(bird_id, birds, time):\n",
    "    if time == \"any\":\n",
    "        bird_by_id = birds.find({\"id\": bird_id})\n",
    "    else:\n",
    "        #bird_by_id = birds.find({\"id\": bird_id},{\"time\": \"/2019/\"})\n",
    "        bird_by_id = birds.find({\"$and\": [{\"id\": bird_id}, {\"time\":{\"$regex\": u\"2019\"}}]})\n",
    "    bird_by_id = list(bird_by_id)\n",
    "    print(len(bird_by_id))\n",
    "    print(bird_by_id[0])\n",
    "    total_distance = 0\n",
    "\n",
    "    for i in range(len(bird_by_id) - 1):\n",
    "        previous = bird_by_id[i]\n",
    "        actual = bird_by_id[i + 1]\n",
    "        #print(calculate_distance(previous.get(\"location\"), actual.get(\"location\")))\n",
    "        total_distance += calculate_distance(previous.get(\"location\"), actual.get(\"location\"))\n",
    "\n",
    "    return total_distance"
   ]
  },
  {
   "cell_type": "code",
   "execution_count": 95,
   "metadata": {
    "scrolled": false
   },
   "outputs": [
    {
     "name": "stdout",
     "output_type": "stream",
     "text": [
      "172\n",
      "{'_id': '5db779c74e423f8ba38c3a33', 'area_key': 'F461754DC547D80D5B8E77A5018FC6E8', 'battery_level': '26', 'captive': 'false', 'code': None, 'estimated_range': '6003', 'id': 'bec01b21-283b-4313-909d-ac46b0e59dc3', 'location': {'latitude': '50.06211833333334', 'longitude': '19.96195'}, 'model': 'rf', 'time': '2019-10-28 23:28:57', 'total_distance': '0', 'vehicle_class': 'scooter'}\n"
     ]
    },
    {
     "data": {
      "text/plain": [
       "1.4932515228610381"
      ]
     },
     "execution_count": 95,
     "metadata": {},
     "output_type": "execute_result"
    }
   ],
   "source": [
    "get_total_distance(test_id, birds, \"2\")"
   ]
  },
  {
   "cell_type": "code",
   "execution_count": null,
   "metadata": {},
   "outputs": [],
   "source": []
  }
 ],
 "metadata": {
  "kernelspec": {
   "display_name": "Python 3",
   "language": "python",
   "name": "python3"
  },
  "language_info": {
   "codemirror_mode": {
    "name": "ipython",
    "version": 3
   },
   "file_extension": ".py",
   "mimetype": "text/x-python",
   "name": "python",
   "nbconvert_exporter": "python",
   "pygments_lexer": "ipython3",
   "version": "3.7.2"
  }
 },
 "nbformat": 4,
 "nbformat_minor": 2
}
