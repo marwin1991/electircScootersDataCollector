{
 "cells": [
  {
   "cell_type": "code",
   "execution_count": 2,
   "metadata": {},
   "outputs": [],
   "source": [
    "from utils import *\n",
    "import pymongo"
   ]
  },
  {
   "cell_type": "code",
   "execution_count": 3,
   "metadata": {},
   "outputs": [],
   "source": [
    "myclient = pymongo.MongoClient(\"mongodb://localhost:27017/\")\n",
    "mydb = myclient[\"db\"]\n",
    "birds = mydb[\"electric_scooters\"]"
   ]
  },
  {
   "cell_type": "code",
   "execution_count": 4,
   "metadata": {},
   "outputs": [],
   "source": [
    "def get_birds_ids(birds):\n",
    "    return list(birds.distinct(\"id\"))"
   ]
  },
  {
   "cell_type": "code",
   "execution_count": 5,
   "metadata": {},
   "outputs": [
    {
     "name": "stdout",
     "output_type": "stream",
     "text": [
      "7642\n"
     ]
    }
   ],
   "source": [
    "birds_ids = get_birds_ids(birds)\n",
    "print(len(birds_ids))"
   ]
  },
  {
   "cell_type": "code",
   "execution_count": 51,
   "metadata": {},
   "outputs": [],
   "source": [
    "def get_distance_and_moves(bird_id, birds, time):\n",
    "    if time == \"any\":\n",
    "        bird_by_id = birds.find({\"id\": bird_id})\n",
    "    else:\n",
    "        #bird_by_id = birds.find({\"id\": bird_id},{\"time\": \"/2019/\"})\n",
    "        bird_by_id = birds.find({\"$and\": [{\"id\": bird_id}, {\"time\":{\"$regex\": u\"\" + time +\"\"}}]})\n",
    "    bird_by_id = list(bird_by_id)\n",
    "    \n",
    "    #print(len(bird_by_id))\n",
    "    total_distance = 0\n",
    "    used = 0\n",
    "    print(\"----------------------------------------------------------\")\n",
    "    print(\"ID: \" + bird_id)\n",
    "    for i in range(len(bird_by_id) - 1):\n",
    "        previous = bird_by_id[i]\n",
    "        actual = bird_by_id[i + 1]\n",
    "        #print(calculate_distance(previous.get(\"location\"), actual.get(\"location\"))\n",
    "        actual_distance = calculate_distance(previous.get(\"location\"), actual.get(\"location\"))\n",
    "        if(actual_distance > 0.001 and (int(previous.get(\"battery_level\")) > int(actual.get(\"battery_level\")))):\n",
    "            print(previous.get(\"time\") + \" \" + previous.get(\"battery_level\") + \" \" + actual.get(\"battery_level\") +\" \" + str(actual_distance))\n",
    "            used += 1\n",
    "            total_distance += actual_distance\n",
    "    return {\"distance\":total_distance, \"used\": used}"
   ]
  },
  {
   "cell_type": "code",
   "execution_count": 41,
   "metadata": {
    "scrolled": false
   },
   "outputs": [
    {
     "name": "stdout",
     "output_type": "stream",
     "text": [
      "2019-10-28 23:28:57 26 21 0.003314663720592317\n",
      "2019-10-28 23:25:08 27 26 0.09666479730498245\n",
      "2019-10-28 23:27:41 26 21 0.004787932682736436\n"
     ]
    },
    {
     "data": {
      "text/plain": [
       "{'total_distance': 0.1047673937083112, 'used': 3}"
      ]
     },
     "execution_count": 41,
     "metadata": {},
     "output_type": "execute_result"
    }
   ],
   "source": [
    "test_id = birds_ids[300]\n",
    "get_distance_and_moves(test_id, birds, \"2019\")"
   ]
  },
  {
   "cell_type": "code",
   "execution_count": 85,
   "metadata": {},
   "outputs": [],
   "source": [
    "all_time = \"any\"\n",
    "days = [\"2019-10-29\", \"2019-10-30\", \"2019-10-31\", \"2019-11-01\", \"2019-11-02\", \"2019-11-03\", \"2019-11-04\"]"
   ]
  },
  {
   "cell_type": "code",
   "execution_count": 61,
   "metadata": {},
   "outputs": [],
   "source": [
    "def get_total(bird_ids, birds, time):\n",
    "    total_used = 0\n",
    "    total_dist = 0\n",
    "    interator = 0\n",
    "    bird_ids_len = len(bird_ids)\n",
    "    for bird_id in bird_ids:\n",
    "        interator +=1\n",
    "        dist_movs = get_distance_and_moves(bird_id, birds, time)\n",
    "        print(\"ID number : \" + str(interator) + \" of \" + str(bird_ids_len))\n",
    "        total_used += dist_movs.get(\"used\")\n",
    "        total_dist += dist_movs.get(\"distance\")\n",
    "    return {\"distance\":total_dist, \"used\": total_used}"
   ]
  },
  {
   "cell_type": "code",
   "execution_count": 63,
   "metadata": {},
   "outputs": [],
   "source": [
    "#Długi czsa wykonania\n",
    "get_total(birds_ids, birds, all_time)"
   ]
  },
  {
   "cell_type": "code",
   "execution_count": 64,
   "metadata": {},
   "outputs": [],
   "source": [
    "hours = [\" 00:\", \" 01:\", \" 02:\", \" 03:\", \" 04:\", \" 05:\", \" 06:\", \" 07:\", \" 08:\", \" 09:\" ,\" 10:\", \" 11:\", \" 12:\",\n",
    "        \" 13:\", \" 14:\", \" 15:\", \" 16:\", \" 17:\", \" 18:\", \" 19:\", \" 20:\", \" 21:\", \" 22:\", \" 23:\" ]"
   ]
  },
  {
   "cell_type": "code",
   "execution_count": 66,
   "metadata": {},
   "outputs": [],
   "source": [
    "def ids_for_time(birds, time):\n",
    "    if time == \"any\":\n",
    "        return birds.distinct(\"id\")\n",
    "    else:\n",
    "        return birds.find({\"time\":{\"$regex\": u\"\" + time +\"\"}}).distinct(\"id\")"
   ]
  },
  {
   "cell_type": "code",
   "execution_count": 82,
   "metadata": {},
   "outputs": [
    {
     "data": {
      "text/plain": [
       "1851"
      ]
     },
     "execution_count": 82,
     "metadata": {},
     "output_type": "execute_result"
    }
   ],
   "source": [
    "len(ids_for_time(birds, \" 03:\"))"
   ]
  },
  {
   "cell_type": "code",
   "execution_count": null,
   "metadata": {},
   "outputs": [
    {
     "name": "stdout",
     "output_type": "stream",
     "text": [
      "Day: 2019-10-29\n",
      "Number of ids: 919\n",
      "----------------------------------------------------------\n",
      "ID: 8b6835c4-b0f4-4509-bc25-01d932f79082\n",
      "2019-10-29 00:25:24 78 75 0.001210487287143155\n",
      "2019-10-29 00:26:37 78 75 0.001210487287143155\n",
      "2019-10-29 00:27:53 78 75 0.001210487287143155\n",
      "2019-10-29 00:29:06 78 75 0.001210487287143155\n",
      "2019-10-29 00:24:08 78 75 0.0032940198374730102\n",
      "2019-10-29 00:40:17 75 73 0.008256041758550959\n",
      "ID number : 1 of 919\n",
      "----------------------------------------------------------\n",
      "ID: 9f40d804-6d65-4c59-9bba-44d9b1939c4d\n",
      "ID number : 2 of 919\n",
      "----------------------------------------------------------\n",
      "ID: 911354b4-7b85-4b65-a7a0-5f7b86e5f79b\n",
      "ID number : 3 of 919\n",
      "----------------------------------------------------------\n",
      "ID: 7d4eb88c-b7fa-4176-8325-9f0496112996\n",
      "ID number : 4 of 919\n",
      "----------------------------------------------------------\n",
      "ID: 6d5a7ba3-525c-47fd-ae3b-849e04929ff3\n",
      "ID number : 5 of 919\n",
      "----------------------------------------------------------\n",
      "ID: 54f6a734-bbc5-432d-a3d8-b89e99b7bc25\n",
      "2019-10-29 00:40:17 31 27 0.007713316113465988\n",
      "ID number : 6 of 919\n",
      "----------------------------------------------------------\n",
      "ID: 5a16786a-c9da-4c19-a7e1-1139308c1b9a\n",
      "ID number : 7 of 919\n",
      "----------------------------------------------------------\n",
      "ID: 3ca57ded-b5fa-4379-8e3b-131890a77a05\n",
      "2019-10-29 00:40:17 36 34 0.022740669715528357\n",
      "ID number : 8 of 919\n",
      "----------------------------------------------------------\n",
      "ID: 0bfb3dbf-7987-49e0-910d-9b4dd86b45b8\n",
      "2019-10-29 00:40:17 20 16 0.012183985396279278\n",
      "2019-10-29 07:43:46 16 15 0.012012415339170407\n",
      "2019-10-29 07:45:22 16 15 0.00380777766586598\n",
      "2019-10-29 07:46:57 16 15 0.00380777766586598\n",
      "2019-10-29 07:48:34 16 15 0.00380777766586598\n",
      "2019-10-29 09:44:10 13 12 0.009767851688751626\n",
      "2019-10-29 10:47:59 12 11 0.004059674412816482\n",
      "2019-10-29 10:44:44 12 11 0.0023092804736676432\n",
      "2019-10-29 11:59:04 11 10 0.004059670097848014\n",
      "ID number : 9 of 919\n",
      "----------------------------------------------------------\n",
      "ID: e743de68-999b-4431-a674-d4df1d79dc72\n",
      "ID number : 10 of 919\n",
      "----------------------------------------------------------\n",
      "ID: 593baa78-98a7-4ac4-b038-0de94ae2a402\n",
      "2019-10-29 00:40:17 87 84 0.0051629157901549195\n",
      "2019-10-29 12:03:50 82 78 0.010167423961029163\n",
      "2019-10-29 20:53:23 78 75 0.002606324510711506\n",
      "ID number : 11 of 919\n",
      "----------------------------------------------------------\n",
      "ID: 2be1d8c5-5b6e-4628-b851-e81182aea7c8\n",
      "ID number : 12 of 919\n",
      "----------------------------------------------------------\n",
      "ID: 7544d71f-87db-41d6-8f5b-bc19710588c7\n",
      "ID number : 13 of 919\n",
      "----------------------------------------------------------\n",
      "ID: 3689377b-d78b-4892-9596-31627eac594c\n",
      "ID number : 14 of 919\n",
      "----------------------------------------------------------\n",
      "ID: ce9e6017-0a5e-4587-bed0-3aaa0c860992\n",
      "ID number : 15 of 919\n",
      "----------------------------------------------------------\n",
      "ID: a2fc1556-29fe-4e8d-b5a1-d8a057b29303\n",
      "ID number : 16 of 919\n",
      "----------------------------------------------------------\n",
      "ID: 3ca7997f-a4c5-4e4f-a656-d290b7d22a02\n",
      "2019-10-29 00:40:17 97 92 0.002962227500417391\n",
      "ID number : 17 of 919\n",
      "----------------------------------------------------------\n",
      "ID: 88677737-b968-478f-9ef3-6706af2c6156\n",
      "2019-10-29 00:40:17 97 92 0.00218033348852198\n",
      "ID number : 18 of 919\n",
      "----------------------------------------------------------\n",
      "ID: 02a46840-35e3-4c25-ad6c-311bae100abe\n",
      "2019-10-29 00:40:17 97 94 0.0034128937868696555\n",
      "ID number : 19 of 919\n",
      "----------------------------------------------------------\n",
      "ID: eb7a9ca7-6f29-450c-8cb1-f8b9e8aa258c\n",
      "2019-10-29 00:40:17 98 96 0.00308683708692832\n",
      "ID number : 20 of 919\n",
      "----------------------------------------------------------\n",
      "ID: 800f3f9b-a1ef-43a9-87b0-52bbdd792bd2\n",
      "2019-10-29 00:40:17 98 96 0.0016129470649307077\n",
      "ID number : 21 of 919\n",
      "----------------------------------------------------------\n",
      "ID: d2119552-4dc0-4a43-91e9-429b52e408e0\n",
      "2019-10-29 00:40:17 98 93 0.002420894121663448\n",
      "ID number : 22 of 919\n",
      "----------------------------------------------------------\n",
      "ID: 75ca015a-8e3f-4e0f-911b-14b431fc07ea\n",
      "2019-10-29 00:40:17 97 92 0.0013130196505757835\n",
      "ID number : 23 of 919\n",
      "----------------------------------------------------------\n",
      "ID: 4c5272fe-59ea-46d8-b641-7f80ffbd2866\n",
      "2019-10-29 00:40:17 98 93 0.003844792579799876\n",
      "ID number : 24 of 919\n",
      "----------------------------------------------------------\n",
      "ID: b3f273f7-1c9f-48dc-adc3-a61ec0ed6fe6\n",
      "2019-10-29 00:40:17 98 93 0.0016854437279562482\n",
      "2019-10-29 12:03:50 93 89 0.004926663506178269\n",
      "ID number : 25 of 919\n",
      "----------------------------------------------------------\n",
      "ID: 4cf8e783-5263-4759-9ebe-c14d888fc14e\n",
      "2019-10-29 00:40:17 97 92 0.0014821994887683804\n",
      "ID number : 26 of 919\n"
     ]
    }
   ],
   "source": [
    "result = list()\n",
    "for day in days:\n",
    "    print(\"Day: \" + day)\n",
    "    ids = ids_for_time(birds, day)\n",
    "    print(\"Number of ids: \" + str(len(ids)))\n",
    "    result.append(get_total(ids, birds, day))"
   ]
  }
 ],
 "metadata": {
  "kernelspec": {
   "display_name": "Python 3",
   "language": "python",
   "name": "python3"
  },
  "language_info": {
   "codemirror_mode": {
    "name": "ipython",
    "version": 3
   },
   "file_extension": ".py",
   "mimetype": "text/x-python",
   "name": "python",
   "nbconvert_exporter": "python",
   "pygments_lexer": "ipython3",
   "version": "3.7.2"
  }
 },
 "nbformat": 4,
 "nbformat_minor": 2
}
